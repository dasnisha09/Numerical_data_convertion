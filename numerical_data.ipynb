{
  "nbformat": 4,
  "nbformat_minor": 0,
  "metadata": {
    "colab": {
      "provenance": [],
      "authorship_tag": "ABX9TyOxMRK0hhqs245Cf8hi5Fo/",
      "include_colab_link": true
    },
    "kernelspec": {
      "name": "python3",
      "display_name": "Python 3"
    },
    "language_info": {
      "name": "python"
    }
  },
  "cells": [
    {
      "cell_type": "markdown",
      "metadata": {
        "id": "view-in-github",
        "colab_type": "text"
      },
      "source": [
        "<a href=\"https://colab.research.google.com/github/dasnisha09/Numerical_data_convertion/blob/main/numerical_data.ipynb\" target=\"_parent\"><img src=\"https://colab.research.google.com/assets/colab-badge.svg\" alt=\"Open In Colab\"/></a>"
      ]
    },
    {
      "cell_type": "code",
      "execution_count": 19,
      "metadata": {
        "id": "MiA9Mcmc5TV4"
      },
      "outputs": [],
      "source": [
        "from google.colab import drive\n",
        "import pandas as pd"
      ]
    },
    {
      "cell_type": "code",
      "source": [
        "drive.mount('/content/drive')"
      ],
      "metadata": {
        "colab": {
          "base_uri": "https://localhost:8080/"
        },
        "id": "rN2M32lr53Y1",
        "outputId": "c7394346-4a9a-4360-d059-41d6a88013f0"
      },
      "execution_count": 20,
      "outputs": [
        {
          "output_type": "stream",
          "name": "stdout",
          "text": [
            "Drive already mounted at /content/drive; to attempt to forcibly remount, call drive.mount(\"/content/drive\", force_remount=True).\n"
          ]
        }
      ]
    },
    {
      "cell_type": "code",
      "source": [
        "file_path = '/content/drive/MyDrive/numerical data task/playtennis.csv'"
      ],
      "metadata": {
        "id": "B_7wTsxR6iFi"
      },
      "execution_count": 21,
      "outputs": []
    },
    {
      "cell_type": "code",
      "source": [
        "# Load the dataset\n",
        "df = pd.read_csv('/content/drive/MyDrive/numerical data task/playtennis.csv')\n",
        "print(df)"
      ],
      "metadata": {
        "colab": {
          "base_uri": "https://localhost:8080/"
        },
        "id": "SqUXYwcq6vt1",
        "outputId": "d1500d0f-b060-4109-de66-9cba133b84e6"
      },
      "execution_count": 25,
      "outputs": [
        {
          "output_type": "stream",
          "name": "stdout",
          "text": [
            "    Day   Outlook Temperature Humidity    Wind PlayTennis\n",
            "0    D1     Sunny         Hot     High    Weak         No\n",
            "1    D2     Sunny         Hot     High  Strong         No\n",
            "2    D3  Overcast         Hot     High    Weak        Yes\n",
            "3    D4      Rain        Mild     High    Weak        Yes\n",
            "4    D5      Rain        Cool   Normal    Weak        Yes\n",
            "5    D6      Rain        Cool   Normal  Strong         No\n",
            "6    D7  Overcast        Cool   Normal  Strong        Yes\n",
            "7    D8     Sunny        Mild     High    Weak         No\n",
            "8    D9     Sunny        Cool   Normal    Weak        Yes\n",
            "9   D10      Rain        Mild   Normal    Weak        Yes\n",
            "10  D11     Sunny        Mild   Normal  Strong        Yes\n",
            "11  D12  Overcast        Mild     High  Strong        Yes\n",
            "12  D13  Overcast         Hot   Normal    Weak        Yes\n",
            "13  D14      Rain        Mild     High  Strong         No\n"
          ]
        }
      ]
    },
    {
      "source": [
        "df_encoded = pd.get_dummies(df, columns=['Outlook', 'Temperature', 'Humidity', 'Wind'], drop_first=True)\n",
        "\n",
        "\n",
        "# Convert 'PlayTennis' column to numerical values (Yes: 1, No: 0)\n",
        "df_encoded['PlayTennis'] = df_encoded['PlayTennis'].map({'Yes': 1, 'No': 0})\n",
        "\n",
        "\n",
        "# Display the resulting dataframe\n",
        "\n",
        "print(df_encoded)"
      ],
      "cell_type": "code",
      "metadata": {
        "colab": {
          "base_uri": "https://localhost:8080/"
        },
        "id": "clk0EA-m8x2I",
        "outputId": "748f3fdd-db3b-4dcc-a833-cfb16f0479df"
      },
      "execution_count": 33,
      "outputs": [
        {
          "output_type": "stream",
          "name": "stdout",
          "text": [
            "    Day  PlayTennis  Outlook_2  Outlook_3  Temperature_2  Temperature_3  \\\n",
            "0    D1           0          0          0              0              0   \n",
            "1    D2           0          0          0              0              0   \n",
            "2    D3           1          1          0              0              0   \n",
            "3    D4           1          0          1              1              0   \n",
            "4    D5           1          0          1              0              1   \n",
            "5    D6           0          0          1              0              1   \n",
            "6    D7           1          1          0              0              1   \n",
            "7    D8           0          0          0              1              0   \n",
            "8    D9           1          0          0              0              1   \n",
            "9   D10           1          0          1              1              0   \n",
            "10  D11           1          0          0              1              0   \n",
            "11  D12           1          1          0              1              0   \n",
            "12  D13           1          1          0              0              0   \n",
            "13  D14           0          0          1              1              0   \n",
            "\n",
            "    Humidity_2  Wind_2  \n",
            "0            0       0  \n",
            "1            0       1  \n",
            "2            0       0  \n",
            "3            0       0  \n",
            "4            1       0  \n",
            "5            1       1  \n",
            "6            1       1  \n",
            "7            0       0  \n",
            "8            1       0  \n",
            "9            1       0  \n",
            "10           1       1  \n",
            "11           0       1  \n",
            "12           1       0  \n",
            "13           0       1  \n"
          ]
        }
      ]
    },
    {
      "cell_type": "code",
      "source": [],
      "metadata": {
        "id": "bergx2fu8qyj"
      },
      "execution_count": null,
      "outputs": []
    }
  ]
}